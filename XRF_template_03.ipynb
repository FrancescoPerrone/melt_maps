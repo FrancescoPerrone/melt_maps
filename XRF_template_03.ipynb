{
 "cells": [
  {
   "cell_type": "code",
   "execution_count": 1,
   "metadata": {},
   "outputs": [],
   "source": [
    "%matplotlib qt5\n",
    "\n",
    "import hyperspy.api as hs\n",
    "import numpy as np\n",
    "\n",
    "import h5py\n",
    "import matplotlib.pyplot as plt\n",
    "\n",
    "import glob\n",
    "\n",
    "\n",
    "\n",
    "import sklearn as skl\n",
    "from sklearn import preprocessing\n",
    "from sklearn.decomposition import PCA, NMF, FactorAnalysis\n",
    "from sklearn.cluster import DBSCAN\n",
    "from sklearn.mixture import GaussianMixture\n",
    "from sklearn.pipeline import Pipeline\n",
    "\n",
    "import seaborn as sns\n",
    "import pandas as pd\n",
    "\n",
    "\n",
    "from skcmeans.algorithms import Probabilistic\n",
    "from skcmeans.algorithms import Probabilistic, Possibilistic, GustafsonKesselMixin"
   ]
  },
  {
   "cell_type": "markdown",
   "metadata": {},
   "source": [
    "# Convert the hdf5 data from Sigray HHDF5 standard to Hyperspy standard"
   ]
  },
  {
   "cell_type": "code",
   "execution_count": null,
   "metadata": {},
   "outputs": [],
   "source": [
    "!cd 'data/ISE_500sqaures_A21-016_Map1_001_rawmap/'\n",
    "!ls 'data/ISE_500sqaures_A21-016_Map1_002_rawmap/'"
   ]
  },
  {
   "cell_type": "code",
   "execution_count": 2,
   "metadata": {},
   "outputs": [],
   "source": [
    "def h5printR(item, leading = ''):\n",
    "    for key in item:\n",
    "        if isinstance(item[key], h5py.Dataset):\n",
    "            print(leading + key + ': ' + str(item[key].shape))\n",
    "        else:\n",
    "            print(leading + key)\n",
    "            h5printR(item[key], leading + '  ')\n",
    "\n",
    "# Print structure of a `.h5` file            \n",
    "def h5print(filename):\n",
    "    with h5py.File(filename, 'r') as h:\n",
    "        print(filename)\n",
    "        h5printR(h, '  ')"
   ]
  },
  {
   "cell_type": "code",
   "execution_count": null,
   "metadata": {},
   "outputs": [],
   "source": [
    "xrf_data = h5py.File('data/ISE_500sqaures_A21-016_Map2_002_rawmap/xsp3.0001','r' )"
   ]
  },
  {
   "cell_type": "code",
   "execution_count": null,
   "metadata": {},
   "outputs": [],
   "source": [
    "h5print('data/ISE_500sqaures_A21-016_Map2_002_rawmap/xsp3.0001')"
   ]
  },
  {
   "cell_type": "code",
   "execution_count": null,
   "metadata": {},
   "outputs": [],
   "source": [
    "row_1=xrf_data['entry']['data']['data']"
   ]
  },
  {
   "cell_type": "code",
   "execution_count": null,
   "metadata": {},
   "outputs": [],
   "source": [
    "row_1[0].shape"
   ]
  },
  {
   "cell_type": "markdown",
   "metadata": {},
   "source": [
    "#### Print the attributes associated with the data. \n",
    "\n",
    "these are needed to scale the data correctly etc."
   ]
  },
  {
   "cell_type": "code",
   "execution_count": null,
   "metadata": {},
   "outputs": [],
   "source": [
    "for att in xrf_data['entry']['data']['data'].attrs:\n",
    "    print(att,xrf_data['entry']['data']['data'].attrs[att])"
   ]
  },
  {
   "cell_type": "markdown",
   "metadata": {},
   "source": [
    "# Physical paramters \n",
    "\n",
    "need these t ocorrectly scale the pixels and arrange the data."
   ]
  },
  {
   "cell_type": "code",
   "execution_count": null,
   "metadata": {},
   "outputs": [],
   "source": [
    "pix_x, iterations, num_ch =xrf_data['entry']['data']['data'].shape\n",
    "\n",
    "print(pix_x, iterations, num_ch)"
   ]
  },
  {
   "cell_type": "code",
   "execution_count": null,
   "metadata": {},
   "outputs": [],
   "source": [
    "#pix_x_size=xrf_data['entry']['data']['data'].attrs['ScanXWidth']/pix_x\n",
    "\n",
    "#pix_y_size=np.abs(xrf_data['entry']['data']['data'].attrs['ScanXWidth'].attrs['ScanYWidth'])/(corr_data['entry']['detector']['data1'].attrs['ScanYNumberOfPoints']-1)\n",
    "#print(pix_x_size,pix_y_size)"
   ]
  },
  {
   "cell_type": "code",
   "execution_count": null,
   "metadata": {},
   "outputs": [],
   "source": [
    "xrf_map = hs.signals.Signal1D(xrf_data['entry']['data']['data'])\n",
    "xrf_map.plot()"
   ]
  },
  {
   "cell_type": "code",
   "execution_count": null,
   "metadata": {},
   "outputs": [],
   "source": [
    "xrf_map"
   ]
  },
  {
   "cell_type": "code",
   "execution_count": null,
   "metadata": {},
   "outputs": [],
   "source": [
    "xrf_map=xrf_map.sum(axis=0)"
   ]
  },
  {
   "cell_type": "code",
   "execution_count": null,
   "metadata": {},
   "outputs": [],
   "source": [
    "xrf_map"
   ]
  },
  {
   "cell_type": "code",
   "execution_count": null,
   "metadata": {},
   "outputs": [],
   "source": [
    "xrf_map.plot()"
   ]
  },
  {
   "cell_type": "markdown",
   "metadata": {},
   "source": [
    "# this is the file conversion"
   ]
  },
  {
   "cell_type": "code",
   "execution_count": null,
   "metadata": {},
   "outputs": [],
   "source": [
    "xrf_map = hs.signals.Signal1D(xrf_data['entry']['data']['data'])\n",
    "xrf_map=xrf_map.sum(axis=0)\n",
    "print(xrf_map)\n",
    "print(xrf_map.data.shape)"
   ]
  },
  {
   "cell_type": "code",
   "execution_count": 11,
   "metadata": {
    "scrolled": true
   },
   "outputs": [
    {
     "name": "stdout",
     "output_type": "stream",
     "text": [
      "/media/2TB_NVMe_2/science_2/2022_XRF_melts/data/ISE_500sqaures_A21-016_Map2_002_rawmap/xsp3.0123\n",
      "123\n",
      "/media/2TB_NVMe_2/science_2/2022_XRF_melts/data/ISE_500sqaures_A21-016_Map2_002_rawmap/xsp3.0089\n",
      "89\n",
      "/media/2TB_NVMe_2/science_2/2022_XRF_melts/data/ISE_500sqaures_A21-016_Map2_002_rawmap/xsp3.0047\n",
      "47\n",
      "/media/2TB_NVMe_2/science_2/2022_XRF_melts/data/ISE_500sqaures_A21-016_Map2_002_rawmap/xsp3.0096\n",
      "96\n",
      "/media/2TB_NVMe_2/science_2/2022_XRF_melts/data/ISE_500sqaures_A21-016_Map2_002_rawmap/xsp3.0032\n",
      "32\n",
      "/media/2TB_NVMe_2/science_2/2022_XRF_melts/data/ISE_500sqaures_A21-016_Map2_002_rawmap/xsp3.0022\n",
      "22\n",
      "/media/2TB_NVMe_2/science_2/2022_XRF_melts/data/ISE_500sqaures_A21-016_Map2_002_rawmap/xsp3.0088\n",
      "88\n",
      "/media/2TB_NVMe_2/science_2/2022_XRF_melts/data/ISE_500sqaures_A21-016_Map2_002_rawmap/xsp3.0139\n",
      "139\n",
      "/media/2TB_NVMe_2/science_2/2022_XRF_melts/data/ISE_500sqaures_A21-016_Map2_002_rawmap/xsp3.0063\n",
      "63\n",
      "/media/2TB_NVMe_2/science_2/2022_XRF_melts/data/ISE_500sqaures_A21-016_Map2_002_rawmap/xsp3.0028\n",
      "28\n",
      "/media/2TB_NVMe_2/science_2/2022_XRF_melts/data/ISE_500sqaures_A21-016_Map2_002_rawmap/xsp3.0164\n",
      "164\n",
      "/media/2TB_NVMe_2/science_2/2022_XRF_melts/data/ISE_500sqaures_A21-016_Map2_002_rawmap/xsp3.0111\n",
      "111\n",
      "/media/2TB_NVMe_2/science_2/2022_XRF_melts/data/ISE_500sqaures_A21-016_Map2_002_rawmap/xsp3.0006\n",
      "6\n",
      "/media/2TB_NVMe_2/science_2/2022_XRF_melts/data/ISE_500sqaures_A21-016_Map2_002_rawmap/xsp3.0040\n",
      "40\n",
      "/media/2TB_NVMe_2/science_2/2022_XRF_melts/data/ISE_500sqaures_A21-016_Map2_002_rawmap/xsp3.0176\n",
      "176\n",
      "/media/2TB_NVMe_2/science_2/2022_XRF_melts/data/ISE_500sqaures_A21-016_Map2_002_rawmap/xsp3.0097\n",
      "97\n",
      "/media/2TB_NVMe_2/science_2/2022_XRF_melts/data/ISE_500sqaures_A21-016_Map2_002_rawmap/xsp3.0100\n",
      "100\n",
      "/media/2TB_NVMe_2/science_2/2022_XRF_melts/data/ISE_500sqaures_A21-016_Map2_002_rawmap/xsp3.0119\n",
      "119\n",
      "/media/2TB_NVMe_2/science_2/2022_XRF_melts/data/ISE_500sqaures_A21-016_Map2_002_rawmap/xsp3.0049\n",
      "49\n",
      "/media/2TB_NVMe_2/science_2/2022_XRF_melts/data/ISE_500sqaures_A21-016_Map2_002_rawmap/xsp3.0016\n",
      "16\n",
      "/media/2TB_NVMe_2/science_2/2022_XRF_melts/data/ISE_500sqaures_A21-016_Map2_002_rawmap/xsp3.0114\n",
      "114\n",
      "/media/2TB_NVMe_2/science_2/2022_XRF_melts/data/ISE_500sqaures_A21-016_Map2_002_rawmap/xsp3.0196\n",
      "196\n",
      "/media/2TB_NVMe_2/science_2/2022_XRF_melts/data/ISE_500sqaures_A21-016_Map2_002_rawmap/xsp3.0131\n",
      "131\n",
      "/media/2TB_NVMe_2/science_2/2022_XRF_melts/data/ISE_500sqaures_A21-016_Map2_002_rawmap/xsp3.0178\n",
      "178\n",
      "/media/2TB_NVMe_2/science_2/2022_XRF_melts/data/ISE_500sqaures_A21-016_Map2_002_rawmap/xsp3.0137\n",
      "137\n",
      "/media/2TB_NVMe_2/science_2/2022_XRF_melts/data/ISE_500sqaures_A21-016_Map2_002_rawmap/xsp3.0105\n",
      "105\n",
      "/media/2TB_NVMe_2/science_2/2022_XRF_melts/data/ISE_500sqaures_A21-016_Map2_002_rawmap/xsp3.0110\n",
      "110\n",
      "/media/2TB_NVMe_2/science_2/2022_XRF_melts/data/ISE_500sqaures_A21-016_Map2_002_rawmap/xsp3.0147\n",
      "147\n",
      "/media/2TB_NVMe_2/science_2/2022_XRF_melts/data/ISE_500sqaures_A21-016_Map2_002_rawmap/xsp3.0082\n",
      "82\n",
      "/media/2TB_NVMe_2/science_2/2022_XRF_melts/data/ISE_500sqaures_A21-016_Map2_002_rawmap/xsp3.0151\n",
      "151\n",
      "/media/2TB_NVMe_2/science_2/2022_XRF_melts/data/ISE_500sqaures_A21-016_Map2_002_rawmap/xsp3.0168\n",
      "168\n",
      "/media/2TB_NVMe_2/science_2/2022_XRF_melts/data/ISE_500sqaures_A21-016_Map2_002_rawmap/xsp3.0069\n",
      "69\n",
      "/media/2TB_NVMe_2/science_2/2022_XRF_melts/data/ISE_500sqaures_A21-016_Map2_002_rawmap/xsp3.0175\n",
      "175\n",
      "/media/2TB_NVMe_2/science_2/2022_XRF_melts/data/ISE_500sqaures_A21-016_Map2_002_rawmap/xsp3.0193\n",
      "193\n",
      "/media/2TB_NVMe_2/science_2/2022_XRF_melts/data/ISE_500sqaures_A21-016_Map2_002_rawmap/xsp3.0162\n",
      "162\n",
      "/media/2TB_NVMe_2/science_2/2022_XRF_melts/data/ISE_500sqaures_A21-016_Map2_002_rawmap/xsp3.0045\n",
      "45\n",
      "/media/2TB_NVMe_2/science_2/2022_XRF_melts/data/ISE_500sqaures_A21-016_Map2_002_rawmap/xsp3.0126\n",
      "126\n",
      "/media/2TB_NVMe_2/science_2/2022_XRF_melts/data/ISE_500sqaures_A21-016_Map2_002_rawmap/xsp3.0066\n",
      "66\n",
      "/media/2TB_NVMe_2/science_2/2022_XRF_melts/data/ISE_500sqaures_A21-016_Map2_002_rawmap/xsp3.0115\n",
      "115\n",
      "/media/2TB_NVMe_2/science_2/2022_XRF_melts/data/ISE_500sqaures_A21-016_Map2_002_rawmap/xsp3.0108\n",
      "108\n",
      "/media/2TB_NVMe_2/science_2/2022_XRF_melts/data/ISE_500sqaures_A21-016_Map2_002_rawmap/xsp3.0125\n",
      "125\n",
      "/media/2TB_NVMe_2/science_2/2022_XRF_melts/data/ISE_500sqaures_A21-016_Map2_002_rawmap/xsp3.0075\n",
      "75\n",
      "/media/2TB_NVMe_2/science_2/2022_XRF_melts/data/ISE_500sqaures_A21-016_Map2_002_rawmap/xsp3.0044\n",
      "44\n",
      "/media/2TB_NVMe_2/science_2/2022_XRF_melts/data/ISE_500sqaures_A21-016_Map2_002_rawmap/xsp3.0021\n",
      "21\n",
      "/media/2TB_NVMe_2/science_2/2022_XRF_melts/data/ISE_500sqaures_A21-016_Map2_002_rawmap/xsp3.0190\n",
      "190\n",
      "/media/2TB_NVMe_2/science_2/2022_XRF_melts/data/ISE_500sqaures_A21-016_Map2_002_rawmap/xsp3.0194\n",
      "194\n",
      "/media/2TB_NVMe_2/science_2/2022_XRF_melts/data/ISE_500sqaures_A21-016_Map2_002_rawmap/xsp3.0143\n",
      "143\n",
      "/media/2TB_NVMe_2/science_2/2022_XRF_melts/data/ISE_500sqaures_A21-016_Map2_002_rawmap/xsp3.0181\n",
      "181\n",
      "/media/2TB_NVMe_2/science_2/2022_XRF_melts/data/ISE_500sqaures_A21-016_Map2_002_rawmap/xsp3.0127\n",
      "127\n",
      "/media/2TB_NVMe_2/science_2/2022_XRF_melts/data/ISE_500sqaures_A21-016_Map2_002_rawmap/xsp3.0197\n",
      "197\n",
      "/media/2TB_NVMe_2/science_2/2022_XRF_melts/data/ISE_500sqaures_A21-016_Map2_002_rawmap/xsp3.0145\n",
      "145\n",
      "/media/2TB_NVMe_2/science_2/2022_XRF_melts/data/ISE_500sqaures_A21-016_Map2_002_rawmap/xsp3.0132\n",
      "132\n",
      "/media/2TB_NVMe_2/science_2/2022_XRF_melts/data/ISE_500sqaures_A21-016_Map2_002_rawmap/xsp3.0149\n",
      "149\n",
      "/media/2TB_NVMe_2/science_2/2022_XRF_melts/data/ISE_500sqaures_A21-016_Map2_002_rawmap/xsp3.0050\n",
      "50\n",
      "/media/2TB_NVMe_2/science_2/2022_XRF_melts/data/ISE_500sqaures_A21-016_Map2_002_rawmap/xsp3.0201\n",
      "201\n",
      "/media/2TB_NVMe_2/science_2/2022_XRF_melts/data/ISE_500sqaures_A21-016_Map2_002_rawmap/xsp3.0140\n",
      "140\n",
      "/media/2TB_NVMe_2/science_2/2022_XRF_melts/data/ISE_500sqaures_A21-016_Map2_002_rawmap/xsp3.0058\n",
      "58\n",
      "/media/2TB_NVMe_2/science_2/2022_XRF_melts/data/ISE_500sqaures_A21-016_Map2_002_rawmap/xsp3.0130\n",
      "130\n",
      "/media/2TB_NVMe_2/science_2/2022_XRF_melts/data/ISE_500sqaures_A21-016_Map2_002_rawmap/xsp3.0152\n",
      "152\n",
      "/media/2TB_NVMe_2/science_2/2022_XRF_melts/data/ISE_500sqaures_A21-016_Map2_002_rawmap/xsp3.0163\n",
      "163\n",
      "/media/2TB_NVMe_2/science_2/2022_XRF_melts/data/ISE_500sqaures_A21-016_Map2_002_rawmap/xsp3.0074\n",
      "74\n",
      "/media/2TB_NVMe_2/science_2/2022_XRF_melts/data/ISE_500sqaures_A21-016_Map2_002_rawmap/xsp3.0024\n",
      "24\n",
      "/media/2TB_NVMe_2/science_2/2022_XRF_melts/data/ISE_500sqaures_A21-016_Map2_002_rawmap/xsp3.0160\n",
      "160\n",
      "/media/2TB_NVMe_2/science_2/2022_XRF_melts/data/ISE_500sqaures_A21-016_Map2_002_rawmap/xsp3.0198\n",
      "198\n",
      "/media/2TB_NVMe_2/science_2/2022_XRF_melts/data/ISE_500sqaures_A21-016_Map2_002_rawmap/xsp3.0157\n",
      "157\n",
      "/media/2TB_NVMe_2/science_2/2022_XRF_melts/data/ISE_500sqaures_A21-016_Map2_002_rawmap/xsp3.0134\n",
      "134\n",
      "/media/2TB_NVMe_2/science_2/2022_XRF_melts/data/ISE_500sqaures_A21-016_Map2_002_rawmap/xsp3.0184\n",
      "184\n",
      "/media/2TB_NVMe_2/science_2/2022_XRF_melts/data/ISE_500sqaures_A21-016_Map2_002_rawmap/xsp3.0052\n",
      "52\n",
      "/media/2TB_NVMe_2/science_2/2022_XRF_melts/data/ISE_500sqaures_A21-016_Map2_002_rawmap/xsp3.0165\n",
      "165\n",
      "/media/2TB_NVMe_2/science_2/2022_XRF_melts/data/ISE_500sqaures_A21-016_Map2_002_rawmap/xsp3.0027\n",
      "27\n",
      "/media/2TB_NVMe_2/science_2/2022_XRF_melts/data/ISE_500sqaures_A21-016_Map2_002_rawmap/xsp3.0004\n",
      "4\n",
      "/media/2TB_NVMe_2/science_2/2022_XRF_melts/data/ISE_500sqaures_A21-016_Map2_002_rawmap/xsp3.0138\n",
      "138\n",
      "/media/2TB_NVMe_2/science_2/2022_XRF_melts/data/ISE_500sqaures_A21-016_Map2_002_rawmap/xsp3.0092\n",
      "92\n",
      "/media/2TB_NVMe_2/science_2/2022_XRF_melts/data/ISE_500sqaures_A21-016_Map2_002_rawmap/xsp3.0059\n",
      "59\n",
      "/media/2TB_NVMe_2/science_2/2022_XRF_melts/data/ISE_500sqaures_A21-016_Map2_002_rawmap/xsp3.0007\n",
      "7\n",
      "/media/2TB_NVMe_2/science_2/2022_XRF_melts/data/ISE_500sqaures_A21-016_Map2_002_rawmap/xsp3.0018\n",
      "18\n",
      "/media/2TB_NVMe_2/science_2/2022_XRF_melts/data/ISE_500sqaures_A21-016_Map2_002_rawmap/xsp3.0023\n",
      "23\n",
      "/media/2TB_NVMe_2/science_2/2022_XRF_melts/data/ISE_500sqaures_A21-016_Map2_002_rawmap/xsp3.0011\n",
      "11\n",
      "/media/2TB_NVMe_2/science_2/2022_XRF_melts/data/ISE_500sqaures_A21-016_Map2_002_rawmap/xsp3.0056\n",
      "56\n",
      "/media/2TB_NVMe_2/science_2/2022_XRF_melts/data/ISE_500sqaures_A21-016_Map2_002_rawmap/xsp3.0118\n",
      "118\n",
      "/media/2TB_NVMe_2/science_2/2022_XRF_melts/data/ISE_500sqaures_A21-016_Map2_002_rawmap/xsp3.0133\n",
      "133\n",
      "/media/2TB_NVMe_2/science_2/2022_XRF_melts/data/ISE_500sqaures_A21-016_Map2_002_rawmap/xsp3.0104\n",
      "104\n",
      "/media/2TB_NVMe_2/science_2/2022_XRF_melts/data/ISE_500sqaures_A21-016_Map2_002_rawmap/xsp3.0013\n",
      "13\n",
      "/media/2TB_NVMe_2/science_2/2022_XRF_melts/data/ISE_500sqaures_A21-016_Map2_002_rawmap/xsp3.0034\n"
     ]
    },
    {
     "name": "stdout",
     "output_type": "stream",
     "text": [
      "34\n",
      "/media/2TB_NVMe_2/science_2/2022_XRF_melts/data/ISE_500sqaures_A21-016_Map2_002_rawmap/xsp3.0120\n",
      "120\n",
      "/media/2TB_NVMe_2/science_2/2022_XRF_melts/data/ISE_500sqaures_A21-016_Map2_002_rawmap/xsp3.0030\n",
      "30\n",
      "/media/2TB_NVMe_2/science_2/2022_XRF_melts/data/ISE_500sqaures_A21-016_Map2_002_rawmap/xsp3.0091\n",
      "91\n",
      "/media/2TB_NVMe_2/science_2/2022_XRF_melts/data/ISE_500sqaures_A21-016_Map2_002_rawmap/xsp3.0117\n",
      "117\n",
      "/media/2TB_NVMe_2/science_2/2022_XRF_melts/data/ISE_500sqaures_A21-016_Map2_002_rawmap/xsp3.0029\n",
      "29\n",
      "/media/2TB_NVMe_2/science_2/2022_XRF_melts/data/ISE_500sqaures_A21-016_Map2_002_rawmap/xsp3.0142\n",
      "142\n",
      "/media/2TB_NVMe_2/science_2/2022_XRF_melts/data/ISE_500sqaures_A21-016_Map2_002_rawmap/xsp3.0156\n",
      "156\n",
      "/media/2TB_NVMe_2/science_2/2022_XRF_melts/data/ISE_500sqaures_A21-016_Map2_002_rawmap/xsp3.0041\n",
      "41\n",
      "/media/2TB_NVMe_2/science_2/2022_XRF_melts/data/ISE_500sqaures_A21-016_Map2_002_rawmap/xsp3.0094\n",
      "94\n",
      "/media/2TB_NVMe_2/science_2/2022_XRF_melts/data/ISE_500sqaures_A21-016_Map2_002_rawmap/xsp3.0186\n",
      "186\n",
      "/media/2TB_NVMe_2/science_2/2022_XRF_melts/data/ISE_500sqaures_A21-016_Map2_002_rawmap/xsp3.0159\n",
      "159\n",
      "/media/2TB_NVMe_2/science_2/2022_XRF_melts/data/ISE_500sqaures_A21-016_Map2_002_rawmap/xsp3.0107\n",
      "107\n",
      "/media/2TB_NVMe_2/science_2/2022_XRF_melts/data/ISE_500sqaures_A21-016_Map2_002_rawmap/xsp3.0155\n",
      "155\n",
      "/media/2TB_NVMe_2/science_2/2022_XRF_melts/data/ISE_500sqaures_A21-016_Map2_002_rawmap/xsp3.0008\n",
      "8\n",
      "/media/2TB_NVMe_2/science_2/2022_XRF_melts/data/ISE_500sqaures_A21-016_Map2_002_rawmap/xsp3.0103\n",
      "103\n",
      "/media/2TB_NVMe_2/science_2/2022_XRF_melts/data/ISE_500sqaures_A21-016_Map2_002_rawmap/xsp3.0112\n",
      "112\n",
      "/media/2TB_NVMe_2/science_2/2022_XRF_melts/data/ISE_500sqaures_A21-016_Map2_002_rawmap/xsp3.0005\n",
      "5\n",
      "/media/2TB_NVMe_2/science_2/2022_XRF_melts/data/ISE_500sqaures_A21-016_Map2_002_rawmap/xsp3.0061\n",
      "61\n",
      "/media/2TB_NVMe_2/science_2/2022_XRF_melts/data/ISE_500sqaures_A21-016_Map2_002_rawmap/xsp3.0037\n",
      "37\n",
      "/media/2TB_NVMe_2/science_2/2022_XRF_melts/data/ISE_500sqaures_A21-016_Map2_002_rawmap/xsp3.0172\n",
      "172\n",
      "/media/2TB_NVMe_2/science_2/2022_XRF_melts/data/ISE_500sqaures_A21-016_Map2_002_rawmap/xsp3.0148\n",
      "148\n",
      "/media/2TB_NVMe_2/science_2/2022_XRF_melts/data/ISE_500sqaures_A21-016_Map2_002_rawmap/xsp3.0035\n",
      "35\n",
      "/media/2TB_NVMe_2/science_2/2022_XRF_melts/data/ISE_500sqaures_A21-016_Map2_002_rawmap/xsp3.0060\n",
      "60\n",
      "/media/2TB_NVMe_2/science_2/2022_XRF_melts/data/ISE_500sqaures_A21-016_Map2_002_rawmap/xsp3.0079\n",
      "79\n",
      "/media/2TB_NVMe_2/science_2/2022_XRF_melts/data/ISE_500sqaures_A21-016_Map2_002_rawmap/xsp3.0090\n",
      "90\n",
      "/media/2TB_NVMe_2/science_2/2022_XRF_melts/data/ISE_500sqaures_A21-016_Map2_002_rawmap/xsp3.0191\n",
      "191\n",
      "/media/2TB_NVMe_2/science_2/2022_XRF_melts/data/ISE_500sqaures_A21-016_Map2_002_rawmap/xsp3.0102\n",
      "102\n",
      "/media/2TB_NVMe_2/science_2/2022_XRF_melts/data/ISE_500sqaures_A21-016_Map2_002_rawmap/xsp3.0025\n",
      "25\n",
      "/media/2TB_NVMe_2/science_2/2022_XRF_melts/data/ISE_500sqaures_A21-016_Map2_002_rawmap/xsp3.0154\n",
      "154\n",
      "/media/2TB_NVMe_2/science_2/2022_XRF_melts/data/ISE_500sqaures_A21-016_Map2_002_rawmap/xsp3.0086\n",
      "86\n",
      "/media/2TB_NVMe_2/science_2/2022_XRF_melts/data/ISE_500sqaures_A21-016_Map2_002_rawmap/xsp3.0038\n",
      "38\n",
      "/media/2TB_NVMe_2/science_2/2022_XRF_melts/data/ISE_500sqaures_A21-016_Map2_002_rawmap/xsp3.0135\n",
      "135\n",
      "/media/2TB_NVMe_2/science_2/2022_XRF_melts/data/ISE_500sqaures_A21-016_Map2_002_rawmap/xsp3.0001\n",
      "1\n",
      "/media/2TB_NVMe_2/science_2/2022_XRF_melts/data/ISE_500sqaures_A21-016_Map2_002_rawmap/xsp3.0180\n",
      "180\n",
      "/media/2TB_NVMe_2/science_2/2022_XRF_melts/data/ISE_500sqaures_A21-016_Map2_002_rawmap/xsp3.0187\n",
      "187\n",
      "/media/2TB_NVMe_2/science_2/2022_XRF_melts/data/ISE_500sqaures_A21-016_Map2_002_rawmap/xsp3.0188\n",
      "188\n",
      "/media/2TB_NVMe_2/science_2/2022_XRF_melts/data/ISE_500sqaures_A21-016_Map2_002_rawmap/xsp3.0081\n",
      "81\n",
      "/media/2TB_NVMe_2/science_2/2022_XRF_melts/data/ISE_500sqaures_A21-016_Map2_002_rawmap/xsp3.0171\n",
      "171\n",
      "/media/2TB_NVMe_2/science_2/2022_XRF_melts/data/ISE_500sqaures_A21-016_Map2_002_rawmap/xsp3.0173\n",
      "173\n",
      "/media/2TB_NVMe_2/science_2/2022_XRF_melts/data/ISE_500sqaures_A21-016_Map2_002_rawmap/xsp3.0087\n",
      "87\n",
      "/media/2TB_NVMe_2/science_2/2022_XRF_melts/data/ISE_500sqaures_A21-016_Map2_002_rawmap/xsp3.0174\n",
      "174\n",
      "/media/2TB_NVMe_2/science_2/2022_XRF_melts/data/ISE_500sqaures_A21-016_Map2_002_rawmap/xsp3.0170\n",
      "170\n",
      "/media/2TB_NVMe_2/science_2/2022_XRF_melts/data/ISE_500sqaures_A21-016_Map2_002_rawmap/xsp3.0150\n",
      "150\n",
      "/media/2TB_NVMe_2/science_2/2022_XRF_melts/data/ISE_500sqaures_A21-016_Map2_002_rawmap/xsp3.0015\n",
      "15\n",
      "/media/2TB_NVMe_2/science_2/2022_XRF_melts/data/ISE_500sqaures_A21-016_Map2_002_rawmap/xsp3.0055\n",
      "55\n",
      "/media/2TB_NVMe_2/science_2/2022_XRF_melts/data/ISE_500sqaures_A21-016_Map2_002_rawmap/xsp3.0192\n",
      "192\n",
      "/media/2TB_NVMe_2/science_2/2022_XRF_melts/data/ISE_500sqaures_A21-016_Map2_002_rawmap/xsp3.0199\n",
      "199\n",
      "/media/2TB_NVMe_2/science_2/2022_XRF_melts/data/ISE_500sqaures_A21-016_Map2_002_rawmap/xsp3.0010\n",
      "10\n",
      "/media/2TB_NVMe_2/science_2/2022_XRF_melts/data/ISE_500sqaures_A21-016_Map2_002_rawmap/xsp3.0009\n",
      "9\n",
      "/media/2TB_NVMe_2/science_2/2022_XRF_melts/data/ISE_500sqaures_A21-016_Map2_002_rawmap/xsp3.0078\n",
      "78\n",
      "/media/2TB_NVMe_2/science_2/2022_XRF_melts/data/ISE_500sqaures_A21-016_Map2_002_rawmap/xsp3.0033\n",
      "33\n",
      "/media/2TB_NVMe_2/science_2/2022_XRF_melts/data/ISE_500sqaures_A21-016_Map2_002_rawmap/xsp3.0098\n",
      "98\n",
      "/media/2TB_NVMe_2/science_2/2022_XRF_melts/data/ISE_500sqaures_A21-016_Map2_002_rawmap/xsp3.0070\n",
      "70\n",
      "/media/2TB_NVMe_2/science_2/2022_XRF_melts/data/ISE_500sqaures_A21-016_Map2_002_rawmap/xsp3.0017\n",
      "17\n",
      "/media/2TB_NVMe_2/science_2/2022_XRF_melts/data/ISE_500sqaures_A21-016_Map2_002_rawmap/xsp3.0183\n",
      "183\n",
      "/media/2TB_NVMe_2/science_2/2022_XRF_melts/data/ISE_500sqaures_A21-016_Map2_002_rawmap/xsp3.0121\n",
      "121\n",
      "/media/2TB_NVMe_2/science_2/2022_XRF_melts/data/ISE_500sqaures_A21-016_Map2_002_rawmap/xsp3.0106\n",
      "106\n",
      "/media/2TB_NVMe_2/science_2/2022_XRF_melts/data/ISE_500sqaures_A21-016_Map2_002_rawmap/xsp3.0095\n",
      "95\n",
      "/media/2TB_NVMe_2/science_2/2022_XRF_melts/data/ISE_500sqaures_A21-016_Map2_002_rawmap/xsp3.0031\n",
      "31\n",
      "/media/2TB_NVMe_2/science_2/2022_XRF_melts/data/ISE_500sqaures_A21-016_Map2_002_rawmap/xsp3.0039\n",
      "39\n",
      "/media/2TB_NVMe_2/science_2/2022_XRF_melts/data/ISE_500sqaures_A21-016_Map2_002_rawmap/xsp3.0177\n",
      "177\n",
      "/media/2TB_NVMe_2/science_2/2022_XRF_melts/data/ISE_500sqaures_A21-016_Map2_002_rawmap/xsp3.0113\n",
      "113\n",
      "/media/2TB_NVMe_2/science_2/2022_XRF_melts/data/ISE_500sqaures_A21-016_Map2_002_rawmap/xsp3.0062\n",
      "62\n",
      "/media/2TB_NVMe_2/science_2/2022_XRF_melts/data/ISE_500sqaures_A21-016_Map2_002_rawmap/xsp3.0158\n",
      "158\n",
      "/media/2TB_NVMe_2/science_2/2022_XRF_melts/data/ISE_500sqaures_A21-016_Map2_002_rawmap/xsp3.0144\n",
      "144\n",
      "/media/2TB_NVMe_2/science_2/2022_XRF_melts/data/ISE_500sqaures_A21-016_Map2_002_rawmap/xsp3.0116\n",
      "116\n",
      "/media/2TB_NVMe_2/science_2/2022_XRF_melts/data/ISE_500sqaures_A21-016_Map2_002_rawmap/xsp3.0019\n",
      "19\n",
      "/media/2TB_NVMe_2/science_2/2022_XRF_melts/data/ISE_500sqaures_A21-016_Map2_002_rawmap/xsp3.0136\n",
      "136\n",
      "/media/2TB_NVMe_2/science_2/2022_XRF_melts/data/ISE_500sqaures_A21-016_Map2_002_rawmap/xsp3.0076\n",
      "76\n",
      "/media/2TB_NVMe_2/science_2/2022_XRF_melts/data/ISE_500sqaures_A21-016_Map2_002_rawmap/xsp3.0002\n",
      "2\n",
      "/media/2TB_NVMe_2/science_2/2022_XRF_melts/data/ISE_500sqaures_A21-016_Map2_002_rawmap/xsp3.0014\n",
      "14\n",
      "/media/2TB_NVMe_2/science_2/2022_XRF_melts/data/ISE_500sqaures_A21-016_Map2_002_rawmap/xsp3.0084\n",
      "84\n",
      "/media/2TB_NVMe_2/science_2/2022_XRF_melts/data/ISE_500sqaures_A21-016_Map2_002_rawmap/xsp3.0067\n",
      "67\n",
      "/media/2TB_NVMe_2/science_2/2022_XRF_melts/data/ISE_500sqaures_A21-016_Map2_002_rawmap/xsp3.0064\n",
      "64\n",
      "/media/2TB_NVMe_2/science_2/2022_XRF_melts/data/ISE_500sqaures_A21-016_Map2_002_rawmap/xsp3.0057\n",
      "57\n",
      "/media/2TB_NVMe_2/science_2/2022_XRF_melts/data/ISE_500sqaures_A21-016_Map2_002_rawmap/xsp3.0101\n",
      "101\n",
      "/media/2TB_NVMe_2/science_2/2022_XRF_melts/data/ISE_500sqaures_A21-016_Map2_002_rawmap/xsp3.0054\n",
      "54\n",
      "/media/2TB_NVMe_2/science_2/2022_XRF_melts/data/ISE_500sqaures_A21-016_Map2_002_rawmap/xsp3.0012\n",
      "12\n",
      "/media/2TB_NVMe_2/science_2/2022_XRF_melts/data/ISE_500sqaures_A21-016_Map2_002_rawmap/xsp3.0073\n",
      "73\n",
      "/media/2TB_NVMe_2/science_2/2022_XRF_melts/data/ISE_500sqaures_A21-016_Map2_002_rawmap/xsp3.0020\n",
      "20\n",
      "/media/2TB_NVMe_2/science_2/2022_XRF_melts/data/ISE_500sqaures_A21-016_Map2_002_rawmap/xsp3.0077\n",
      "77\n",
      "/media/2TB_NVMe_2/science_2/2022_XRF_melts/data/ISE_500sqaures_A21-016_Map2_002_rawmap/xsp3.0124\n",
      "124\n",
      "/media/2TB_NVMe_2/science_2/2022_XRF_melts/data/ISE_500sqaures_A21-016_Map2_002_rawmap/xsp3.0053\n",
      "53\n",
      "/media/2TB_NVMe_2/science_2/2022_XRF_melts/data/ISE_500sqaures_A21-016_Map2_002_rawmap/xsp3.0166\n"
     ]
    },
    {
     "name": "stdout",
     "output_type": "stream",
     "text": [
      "166\n",
      "/media/2TB_NVMe_2/science_2/2022_XRF_melts/data/ISE_500sqaures_A21-016_Map2_002_rawmap/xsp3.0161\n",
      "161\n",
      "/media/2TB_NVMe_2/science_2/2022_XRF_melts/data/ISE_500sqaures_A21-016_Map2_002_rawmap/xsp3.0065\n",
      "65\n",
      "/media/2TB_NVMe_2/science_2/2022_XRF_melts/data/ISE_500sqaures_A21-016_Map2_002_rawmap/xsp3.0048\n",
      "48\n",
      "/media/2TB_NVMe_2/science_2/2022_XRF_melts/data/ISE_500sqaures_A21-016_Map2_002_rawmap/xsp3.0083\n",
      "83\n",
      "/media/2TB_NVMe_2/science_2/2022_XRF_melts/data/ISE_500sqaures_A21-016_Map2_002_rawmap/xsp3.0185\n",
      "185\n",
      "/media/2TB_NVMe_2/science_2/2022_XRF_melts/data/ISE_500sqaures_A21-016_Map2_002_rawmap/xsp3.0051\n",
      "51\n",
      "/media/2TB_NVMe_2/science_2/2022_XRF_melts/data/ISE_500sqaures_A21-016_Map2_002_rawmap/xsp3.0122\n",
      "122\n",
      "/media/2TB_NVMe_2/science_2/2022_XRF_melts/data/ISE_500sqaures_A21-016_Map2_002_rawmap/xsp3.0146\n",
      "146\n",
      "/media/2TB_NVMe_2/science_2/2022_XRF_melts/data/ISE_500sqaures_A21-016_Map2_002_rawmap/xsp3.0071\n",
      "71\n",
      "/media/2TB_NVMe_2/science_2/2022_XRF_melts/data/ISE_500sqaures_A21-016_Map2_002_rawmap/xsp3.0169\n",
      "169\n",
      "/media/2TB_NVMe_2/science_2/2022_XRF_melts/data/ISE_500sqaures_A21-016_Map2_002_rawmap/xsp3.0129\n",
      "129\n",
      "/media/2TB_NVMe_2/science_2/2022_XRF_melts/data/ISE_500sqaures_A21-016_Map2_002_rawmap/xsp3.0036\n",
      "36\n",
      "/media/2TB_NVMe_2/science_2/2022_XRF_melts/data/ISE_500sqaures_A21-016_Map2_002_rawmap/xsp3.0200\n",
      "200\n",
      "/media/2TB_NVMe_2/science_2/2022_XRF_melts/data/ISE_500sqaures_A21-016_Map2_002_rawmap/xsp3.0128\n",
      "128\n",
      "/media/2TB_NVMe_2/science_2/2022_XRF_melts/data/ISE_500sqaures_A21-016_Map2_002_rawmap/xsp3.0046\n",
      "46\n",
      "/media/2TB_NVMe_2/science_2/2022_XRF_melts/data/ISE_500sqaures_A21-016_Map2_002_rawmap/xsp3.0093\n",
      "93\n",
      "/media/2TB_NVMe_2/science_2/2022_XRF_melts/data/ISE_500sqaures_A21-016_Map2_002_rawmap/xsp3.0068\n",
      "68\n",
      "/media/2TB_NVMe_2/science_2/2022_XRF_melts/data/ISE_500sqaures_A21-016_Map2_002_rawmap/xsp3.0072\n",
      "72\n",
      "/media/2TB_NVMe_2/science_2/2022_XRF_melts/data/ISE_500sqaures_A21-016_Map2_002_rawmap/xsp3.0195\n",
      "195\n",
      "/media/2TB_NVMe_2/science_2/2022_XRF_melts/data/ISE_500sqaures_A21-016_Map2_002_rawmap/xsp3.0099\n",
      "99\n",
      "/media/2TB_NVMe_2/science_2/2022_XRF_melts/data/ISE_500sqaures_A21-016_Map2_002_rawmap/xsp3.0026\n",
      "26\n",
      "/media/2TB_NVMe_2/science_2/2022_XRF_melts/data/ISE_500sqaures_A21-016_Map2_002_rawmap/xsp3.0189\n",
      "189\n",
      "/media/2TB_NVMe_2/science_2/2022_XRF_melts/data/ISE_500sqaures_A21-016_Map2_002_rawmap/xsp3.0141\n",
      "141\n",
      "/media/2TB_NVMe_2/science_2/2022_XRF_melts/data/ISE_500sqaures_A21-016_Map2_002_rawmap/xsp3.0080\n",
      "80\n",
      "/media/2TB_NVMe_2/science_2/2022_XRF_melts/data/ISE_500sqaures_A21-016_Map2_002_rawmap/xsp3.0109\n",
      "109\n",
      "/media/2TB_NVMe_2/science_2/2022_XRF_melts/data/ISE_500sqaures_A21-016_Map2_002_rawmap/xsp3.0043\n",
      "43\n",
      "/media/2TB_NVMe_2/science_2/2022_XRF_melts/data/ISE_500sqaures_A21-016_Map2_002_rawmap/xsp3.0167\n",
      "167\n",
      "/media/2TB_NVMe_2/science_2/2022_XRF_melts/data/ISE_500sqaures_A21-016_Map2_002_rawmap/xsp3.0085\n",
      "85\n",
      "/media/2TB_NVMe_2/science_2/2022_XRF_melts/data/ISE_500sqaures_A21-016_Map2_002_rawmap/xsp3.0182\n",
      "182\n",
      "/media/2TB_NVMe_2/science_2/2022_XRF_melts/data/ISE_500sqaures_A21-016_Map2_002_rawmap/xsp3.0179\n",
      "179\n",
      "/media/2TB_NVMe_2/science_2/2022_XRF_melts/data/ISE_500sqaures_A21-016_Map2_002_rawmap/xsp3.0153\n",
      "153\n",
      "/media/2TB_NVMe_2/science_2/2022_XRF_melts/data/ISE_500sqaures_A21-016_Map2_002_rawmap/xsp3.0042\n",
      "42\n",
      "/media/2TB_NVMe_2/science_2/2022_XRF_melts/data/ISE_500sqaures_A21-016_Map2_002_rawmap/xsp3.0003\n",
      "3\n",
      "[########################################] | 100% Completed |  0.1s\n",
      "<Axes manager, axes: (201, 201|4096)>\n",
      "            Name |   size |  index |  offset |   scale |  units \n",
      "================ | ====== | ====== | ======= | ======= | ====== \n",
      "     <undefined> |    201 |      0 |       1 |       1 | <undefined> \n",
      "   stack_element |    201 |      0 |       0 |       1 | <undefined> \n",
      "---------------- | ------ | ------ | ------- | ------- | ------ \n",
      "     <undefined> |   4096 |        |       0 |       1 | <undefined> \n"
     ]
    }
   ],
   "source": [
    "\n",
    "\n",
    "save_path='/media/2TB_NVMe_2/science_2/2022_XRF_melts/data/ISE_500sq_A21-016_map2_002_hspy/'\n",
    "\n",
    "#this changes the sigray file to a hyperspy... proably should delete these once we have stacked.\n",
    "for fname in glob.glob('/media/2TB_NVMe_2/science_2/2022_XRF_melts/data/ISE_500sqaures_A21-016_Map2_002_rawmap/xsp3.*'):\n",
    "\n",
    "    print(fname)\n",
    "    map=int(fname.split('xsp3.')[1])\n",
    "    xrf_data = h5py.File(fname,'r' )\n",
    "    xrf_map = hs.signals.Signal1D(xrf_data['entry']['data']['data'])\n",
    "#sum the 'y- axis' as realised we ahave two passes per pixel, so intigrate    \n",
    "    xrf_map=xrf_map.sum(axis=0)\n",
    "    xrf_map.crop(axis=0,start=1)\n",
    "    if (map%2) == 0: xrf_map.data=np.flip(xrf_map.data, axis=0)\n",
    "    \n",
    "    #xrf_map.axes_manager[0].name = 'X'\n",
    "    #xrf_map.axes_manager['X'].units = 'mm'\n",
    "    #xrf_map.axes_manager['X'].scale = pix_x_size\n",
    "    #xrf_map.axes_manager['X'].offset = corr_data['entry']['detector']['data1'].attrs['MotorXLineStartRBV']\n",
    "\n",
    "    #xrf_map.axes_manager[1].name = 'Y'\n",
    "    #xrf_map.axes_manager['Y'].units = 'mm'\n",
    "    #xrf_map.axes_manager['Y'].scale = pix_y_size\n",
    "    #xrf_map.axes_manager['Y'].offset = corr_data['entry']['detector']['data1'].attrs['MotorYLineStartRBV']\n",
    "\n",
    "\n",
    "    #xrf_map.axes_manager[1].name= 'Energy'\n",
    "    #xrf_map.axes_manager['Energy'].units = 'kev'\n",
    "    #xrf_map.axes_manager['Energy'].scale = corr_data['entry']['detector']['data1'].attrs['ECAL'][1]\n",
    "    #xrf_map.axes_manager['Energy'].offset = corr_data['entry']['detector']['data1'].attrs['ECAL'][0]\n",
    "\n",
    "    #print(xrf_map.axes_manager)\n",
    " \n",
    "    \n",
    "    print(map)\n",
    "    xrf_map.save(save_path+'at16_map2_002_{:05d}'.format(map))\n",
    "#################################################################################\n",
    "    \n",
    "xrf_stack=hs.load(save_path+'at16_map2_002_*.hspy',stack=True)\n",
    "\n",
    "#xrf_stack.axes_manager[1].name = 'Y'\n",
    "#xrf_stack.axes_manager['Y'].units = 'mm'\n",
    "#xrf_stack.axes_manager['Y'].scale = pix_y_size\n",
    "#xrf_stack.axes_manager['Y'].offset = corr_data['entry']['detector']['data1'].attrs['MotorYLineStartRBV']\n",
    "\n",
    "print(xrf_stack.axes_manager)\n",
    "\n",
    "#be good to have dialoge etc for the file name but this works....\n",
    "\n",
    "xrf_stack.save(save_path+'at16_map2_002_mapped')\n",
    "\n",
    "xrf_stack.plot()"
   ]
  },
  {
   "cell_type": "markdown",
   "metadata": {},
   "source": [
    "## Quick data inspection.\n",
    "\n",
    "ran PCA to see what the data looks like"
   ]
  },
  {
   "cell_type": "code",
   "execution_count": null,
   "metadata": {},
   "outputs": [],
   "source": [
    "xrf_stack=hs.load(save_path+'at16_map2_002_*.hspy',stack=True)\n",
    "\n",
    "#xrf_stack.axes_manager[1].name = 'Y'\n",
    "#xrf_stack.axes_manager['Y'].units = 'mm'\n",
    "#xrf_stack.axes_manager['Y'].scale = pix_y_size\n",
    "#xrf_stack.axes_manager['Y'].offset = corr_data['entry']['detector']['data1'].attrs['MotorYLineStartRBV']\n",
    "\n",
    "print(xrf_stack.axes_manager)\n",
    "\n",
    "#be good to have dialoge etc for the file name but this works....\n",
    "xrf_stack.change_dtype('float32')\n",
    "\n",
    "xrf_stack.save(save_path+'at16_map2_002_mapped')"
   ]
  },
  {
   "cell_type": "code",
   "execution_count": 6,
   "metadata": {},
   "outputs": [
    {
     "data": {
      "text/plain": [
       "<Signal1D, title: ISE_500sq_A21-016_map2_002_hspy, dimensions: (202, 201|4096)>"
      ]
     },
     "execution_count": 6,
     "metadata": {},
     "output_type": "execute_result"
    }
   ],
   "source": [
    "xrf_stack"
   ]
  },
  {
   "cell_type": "code",
   "execution_count": null,
   "metadata": {},
   "outputs": [],
   "source": [
    "xrf_stack.plot()"
   ]
  },
  {
   "cell_type": "code",
   "execution_count": 12,
   "metadata": {},
   "outputs": [],
   "source": [
    "xrf_stack.change_dtype('float32')\n",
    "\n",
    "\n",
    "xrf_stack.save(save_path+'at16_map2_002_mapped_crop')"
   ]
  },
  {
   "cell_type": "code",
   "execution_count": 15,
   "metadata": {},
   "outputs": [],
   "source": [
    "plt.close('all')"
   ]
  },
  {
   "cell_type": "code",
   "execution_count": 13,
   "metadata": {},
   "outputs": [
    {
     "name": "stdout",
     "output_type": "stream",
     "text": [
      "Decomposition info:\n",
      "  normalize_poissonian_noise=True\n",
      "  algorithm=SVD\n",
      "  output_dimension=20\n",
      "  centre=None\n"
     ]
    },
    {
     "data": {
      "application/vnd.jupyter.widget-view+json": {
       "model_id": "c6ce326f41974c568fe19a7e96c161ab",
       "version_major": 2,
       "version_minor": 0
      },
      "text/plain": [
       "VBox(children=(HBox(children=(Label(value='Decomposition component index', layout=Layout(width='15%')), IntSli…"
      ]
     },
     "metadata": {},
     "output_type": "display_data"
    }
   ],
   "source": [
    "\n",
    "xrf_stack.decomposition(normalize_poissonian_noise=True, algorithm='SVD', output_dimension=20)\n",
    "\n",
    "xrf_stack.plot_explained_variance_ratio(log=True, vline=True)\n",
    "\n",
    "xrf_stack.plot_decomposition_results()"
   ]
  },
  {
   "cell_type": "code",
   "execution_count": 14,
   "metadata": {},
   "outputs": [
    {
     "data": {
      "text/plain": [
       "<AxesSubplot:xlabel='Principal component', ylabel='Cumulative explained variance ratio'>"
      ]
     },
     "execution_count": 14,
     "metadata": {},
     "output_type": "execute_result"
    }
   ],
   "source": [
    "xrf_stack.plot_cumulative_explained_variance_ratio()"
   ]
  },
  {
   "cell_type": "markdown",
   "metadata": {},
   "source": [
    "**note** iterative cropping above showed that most data/ analysis was better when cropping down to the shape (157, 63|2001)"
   ]
  },
  {
   "cell_type": "code",
   "execution_count": null,
   "metadata": {},
   "outputs": [],
   "source": [
    "xrf_stack.save(save_path+'lisheen_low_res_map_data_Crop')"
   ]
  },
  {
   "cell_type": "markdown",
   "metadata": {},
   "source": [
    "## re-explore\n",
    "\n",
    "get 6 good factors... need to label peaks etc but starting to pull out data.\n",
    "\n"
   ]
  },
  {
   "cell_type": "code",
   "execution_count": 16,
   "metadata": {},
   "outputs": [
    {
     "name": "stderr",
     "output_type": "stream",
     "text": [
      "/home/jeinsle/anaconda3/envs/mla/lib/python3.9/site-packages/sklearn/decomposition/_nmf.py:312: FutureWarning: The 'init' value, when 'init=None' and n_components is less than n_samples and n_features, will be changed from 'nndsvd' to 'nndsvda' in 1.1 (renaming of 0.26).\n",
      "  warnings.warn((\"The 'init' value, when 'init=None' and \"\n",
      "/home/jeinsle/anaconda3/envs/mla/lib/python3.9/site-packages/sklearn/decomposition/_nmf.py:1090: ConvergenceWarning: Maximum number of iterations 200 reached. Increase it to improve convergence.\n",
      "  warnings.warn(\"Maximum number of iterations %d reached. Increase it to\"\n"
     ]
    },
    {
     "name": "stdout",
     "output_type": "stream",
     "text": [
      "Decomposition info:\n",
      "  normalize_poissonian_noise=True\n",
      "  algorithm=NMF\n",
      "  output_dimension=6\n",
      "  centre=None\n",
      "scikit-learn estimator:\n",
      "NMF(n_components=6)\n"
     ]
    },
    {
     "data": {
      "application/vnd.jupyter.widget-view+json": {
       "model_id": "cbaf61eadce74737b6fb382676bde873",
       "version_major": 2,
       "version_minor": 0
      },
      "text/plain": [
       "VBox(children=(HBox(children=(Label(value='Decomposition component index', layout=Layout(width='15%')), IntSli…"
      ]
     },
     "metadata": {},
     "output_type": "display_data"
    }
   ],
   "source": [
    "xrf_stack.decomposition(normalize_poissonian_noise=True, algorithm='NMF', output_dimension=6)\n",
    "\n",
    "\n",
    "xrf_stack.plot_decomposition_results()"
   ]
  },
  {
   "cell_type": "code",
   "execution_count": null,
   "metadata": {},
   "outputs": [],
   "source": [
    "xrf_stack.decomposition(normalize_poissonian_noise=True, algorithm='NMF', output_dimension=5)\n",
    "\n",
    "\n",
    "xrf_stack.plot_decomposition_results()"
   ]
  },
  {
   "cell_type": "markdown",
   "metadata": {},
   "source": [
    "## examine with factor analysis"
   ]
  },
  {
   "cell_type": "code",
   "execution_count": 17,
   "metadata": {},
   "outputs": [
    {
     "name": "stdout",
     "output_type": "stream",
     "text": [
      "Decomposition info:\n",
      "  normalize_poissonian_noise=True\n",
      "  algorithm=Pipeline(steps=[('FA', FactorAnalysis(n_components=10, rotation='varimax'))])\n",
      "  output_dimension=11\n",
      "  centre=None\n",
      "scikit-learn estimator:\n",
      "Pipeline(steps=[('FA', FactorAnalysis(n_components=10, rotation='varimax'))])\n"
     ]
    },
    {
     "data": {
      "application/vnd.jupyter.widget-view+json": {
       "model_id": "14bab0beb7fe4c75b2bcc77686f77b83",
       "version_major": 2,
       "version_minor": 0
      },
      "text/plain": [
       "VBox(children=(HBox(children=(Label(value='Decomposition component index', layout=Layout(width='15%')), IntSli…"
      ]
     },
     "metadata": {},
     "output_type": "display_data"
    }
   ],
   "source": [
    "pipeline = Pipeline([(\"FA\", FactorAnalysis(n_components=10,rotation = 'varimax'))])\n",
    "\n",
    "xrf_stack.decomposition(normalize_poissonian_noise=True, algorithm=pipeline, return_info=True,output_dimension=11)\n",
    "\n",
    "xrf_stack.plot_decomposition_results()"
   ]
  },
  {
   "cell_type": "code",
   "execution_count": 18,
   "metadata": {},
   "outputs": [
    {
     "data": {
      "application/vnd.jupyter.widget-view+json": {
       "model_id": "6f918a03ee3b48ec9d699df9af545e04",
       "version_major": 2,
       "version_minor": 0
      },
      "text/plain": [
       "VBox(children=(HBox(children=(Label(value='Decomposition component index', layout=Layout(width='15%')), IntSli…"
      ]
     },
     "metadata": {},
     "output_type": "display_data"
    }
   ],
   "source": [
    "xrf_stack.plot_decomposition_results()"
   ]
  },
  {
   "cell_type": "code",
   "execution_count": null,
   "metadata": {},
   "outputs": [],
   "source": [
    "fa_load= xrf_stack.get_decomposition_loadings()\n",
    "#fa_load.save('snv_eds_analysis/plage_TD_eds_FA_4_load')\n",
    "\n",
    "fa_fact= xrf_stack.get_decomposition_factors()\n",
    "#fa_fact.set_elements(elements)\n",
    "\n",
    "\n",
    "#fa_fact.save('snv_eds_analysis/plage_TD_eds_FA_4_fact')"
   ]
  },
  {
   "cell_type": "code",
   "execution_count": null,
   "metadata": {},
   "outputs": [],
   "source": [
    "fa_facts, ydim,xdim=fa_load.data.shape\n",
    "\n",
    "fact_load_vect= pd.DataFrame((fa_load.data.reshape(fa_facts, ydim*xdim).T), columns = ['Factor 1','Factor 2','Factor 3','Factor 4', 'Factor 5'])\n"
   ]
  },
  {
   "cell_type": "code",
   "execution_count": null,
   "metadata": {},
   "outputs": [],
   "source": [
    "fact_load_vect"
   ]
  },
  {
   "cell_type": "code",
   "execution_count": null,
   "metadata": {},
   "outputs": [],
   "source": [
    "fa_facts, ydim,xdim=fa_load.data.shape\n",
    "fa_vect=fa_load.data.reshape(fa_facts,ydim*xdim).transpose()\n",
    "fa_vect.shape"
   ]
  },
  {
   "cell_type": "code",
   "execution_count": null,
   "metadata": {},
   "outputs": [],
   "source": [
    "loadings_to_cluster=fa_vect[:,:fa_facts]\n",
    "loadings_to_cluster.shape"
   ]
  },
  {
   "cell_type": "code",
   "execution_count": null,
   "metadata": {},
   "outputs": [],
   "source": [
    "class PGK(Probabilistic, GustafsonKesselMixin):\n",
    "    pass"
   ]
  },
  {
   "cell_type": "code",
   "execution_count": null,
   "metadata": {},
   "outputs": [],
   "source": [
    "num_clus=10\n",
    "pgk = PGK(n_clusters =num_clus, n_init=10).fit(loadings_to_cluster)\n",
    "# Process results for visualisation\n",
    "print(pgk.memberships_)\n",
    "labels_ = np.argmax(pgk.memberships_, axis=1)\n",
    "memberships_ = pgk.memberships_[range(len(pgk.memberships_)), labels_] \n",
    "\n",
    "labels = labels_.reshape([ydim,xdim])\n",
    "labels=hs.signals.Signal2D(labels)\n",
    "labels.plot(cmap='tab10')\n",
    "\n",
    "mems=pgk.memberships_.reshape(ydim,xdim,num_clus)\n",
    "print(mems.shape)\n",
    "\n",
    "mem_maps=hs.signals.Signal2D(mems)\n",
    "mem_maps=mem_maps.transpose(signal_axes=(2,0))\n",
    "mem_maps.change_dtype('float32')\n",
    "mem_maps.plot(cmap='viridis')"
   ]
  },
  {
   "cell_type": "code",
   "execution_count": null,
   "metadata": {},
   "outputs": [],
   "source": [
    "plt.close('all')\n",
    "\n",
    "mem_maps.plot(cmap='viridis')"
   ]
  },
  {
   "cell_type": "code",
   "execution_count": null,
   "metadata": {},
   "outputs": [],
   "source": []
  },
  {
   "cell_type": "markdown",
   "metadata": {},
   "source": [
    "## next steps\n",
    "\n",
    "1. makes sense to calcualte an elbow test or examine the BIC to determine the 'optimal' number of clusters\n",
    "2. explore applying HDBSCAN on the FA/ PCA factors\n",
    "3. would also to explore the UMAP pretreatment then HDBSCAN\n",
    "4. maybe blind source separation (ie ICA) after PCA.\n",
    "\n",
    "for 2 and 3 need a different virtual enviroment."
   ]
  },
  {
   "cell_type": "markdown",
   "metadata": {},
   "source": [
    "## actually lets try ICA"
   ]
  },
  {
   "cell_type": "code",
   "execution_count": null,
   "metadata": {},
   "outputs": [],
   "source": [
    "xrf_stack.decomposition(normalize_poissonian_noise=True, algorithm='SVD', output_dimension=7)\n"
   ]
  },
  {
   "cell_type": "code",
   "execution_count": null,
   "metadata": {},
   "outputs": [],
   "source": [
    "xrf_stack.blind_source_separation(number_of_components=7)\n",
    "\n",
    "xrf_stack.plot_bss_results()"
   ]
  },
  {
   "cell_type": "code",
   "execution_count": null,
   "metadata": {},
   "outputs": [],
   "source": []
  },
  {
   "cell_type": "code",
   "execution_count": null,
   "metadata": {},
   "outputs": [],
   "source": []
  }
 ],
 "metadata": {
  "kernelspec": {
   "display_name": "Python 3",
   "language": "python",
   "name": "python3"
  },
  "language_info": {
   "codemirror_mode": {
    "name": "ipython",
    "version": 3
   },
   "file_extension": ".py",
   "mimetype": "text/x-python",
   "name": "python",
   "nbconvert_exporter": "python",
   "pygments_lexer": "ipython3",
   "version": "3.9.6"
  }
 },
 "nbformat": 4,
 "nbformat_minor": 4
}
